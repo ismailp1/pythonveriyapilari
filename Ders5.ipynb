{
  "nbformat": 4,
  "nbformat_minor": 0,
  "metadata": {
    "colab": {
      "provenance": []
    },
    "kernelspec": {
      "name": "python3",
      "display_name": "Python 3"
    },
    "language_info": {
      "name": "python"
    }
  },
  "cells": [
    {
      "cell_type": "code",
      "execution_count": 5,
      "metadata": {
        "colab": {
          "base_uri": "https://localhost:8080/"
        },
        "id": "tMJqskTUGbsC",
        "outputId": "632e03ec-f9e7-4e14-ea50-eac0917ffe37"
      },
      "outputs": [
        {
          "output_type": "stream",
          "name": "stdout",
          "text": [
            "1 ile 100 arasındaki 7'ye bölünen sayılar: [7, 14, 21, 28, 35, 42, 49, 56, 63, 70, 77, 84, 91, 98]\n",
            "Toplam sayı adeti:  14\n",
            "1 ile 100 arasındaki 7'ye bölünmeyen sayılar: [1, 2, 3, 4, 5, 6, 8, 9, 10, 11, 12, 13, 15, 16, 17, 18, 19, 20, 22, 23, 24, 25, 26, 27, 29, 30, 31, 32, 33, 34, 36, 37, 38, 39, 40, 41, 43, 44, 45, 46, 47, 48, 50, 51, 52, 53, 54, 55, 57, 58, 59, 60, 61, 62, 64, 65, 66, 67, 68, 69, 71, 72, 73, 74, 75, 76, 78, 79, 80, 81, 82, 83, 85, 86, 87, 88, 89, 90, 92, 93, 94, 95, 96, 97, 99, 100]\n",
            "Toplam sayı adeti:  86\n"
          ]
        }
      ],
      "source": [
        "# 1 ile 100 arasındaki sayılardan 7'ye bölünenleri bulan Python kodu\n",
        "Sayi_dizisi = []\n",
        "Sayi_dizisi2 = []\n",
        "sayi = 1\n",
        "\n",
        "while sayi <= 100:\n",
        "    if sayi % 7 == 0:\n",
        "        Sayi_dizisi.append(sayi)\n",
        "    elif sayi %7 != 0:\n",
        "        Sayi_dizisi2.append(sayi)\n",
        "    sayi += 1\n",
        "\n",
        "# Sonucu ekrana yazdır\n",
        "print(\"1 ile 100 arasındaki 7'ye bölünen sayılar:\", Sayi_dizisi)\n",
        "print(\"Toplam sayı adeti: \", len(Sayi_dizisi))\n",
        "\n",
        "print(\"1 ile 100 arasındaki 7'ye bölünmeyen sayılar:\", Sayi_dizisi2)\n",
        "print(\"Toplam sayı adeti: \", len(Sayi_dizisi2))"
      ]
    },
    {
      "cell_type": "code",
      "source": [
        "# Girilen iki kodun hangisinin büyük olduğunu bulan ve sayı dışında girilen karakterin hatalı olduğu bildiren kod blogudur.\n",
        "\n",
        "while True:\n",
        "    try:\n",
        "        gelen1 = float(input(\"Birinci sayıyı girin: \"))\n",
        "        gelen2 = float(input(\"İkinci sayıyı girin: \"))\n",
        "\n",
        "        if gelen1 > gelen2:\n",
        "            print(\"İlk sayı büyüktür\")\n",
        "        elif gelen1 < gelen2:\n",
        "            print(\"İkinci sayı büyüktür\")\n",
        "        else:\n",
        "            print(\"Sayilar birbirine eşittir\")\n",
        "\n",
        "        break\n",
        "    except ValueError:\n",
        "        print(\"Lütfen geçerli bir sayı girin.\")"
      ],
      "metadata": {
        "colab": {
          "base_uri": "https://localhost:8080/"
        },
        "id": "aGq2oACwHc4J",
        "outputId": "c4b1e6fd-3279-4354-d445-41976b65fcf1"
      },
      "execution_count": 17,
      "outputs": [
        {
          "output_type": "stream",
          "name": "stdout",
          "text": [
            "Birinci sayıyı girin: 10\n",
            "İkinci sayıyı girin: 20\n",
            "İkinci sayı büyüktür\n"
          ]
        }
      ]
    },
    {
      "cell_type": "code",
      "source": [
        "# Kullanıcıdan alınan sayıya kadar 1'den başlayarak faktöreyel hesabının yapılmasıdır.\n",
        "\n",
        "while True:\n",
        "    try:\n",
        "        sayi = int(input(\"Bir sayı girin: \"))\n",
        "        if sayi < 0:\n",
        "            print(\"Negatif sayıların faktöriyeli hesaplanamaz.\")\n",
        "        elif sayi == 0 or sayi == 1:\n",
        "            print(1)\n",
        "        else:\n",
        "            sonuc = 1\n",
        "            while sayi > 1:\n",
        "                sonuc *= sayi\n",
        "                sayi -= 1\n",
        "            print(sonuc)\n",
        "        break\n",
        "    except ValueError:\n",
        "        print(\"Lütfen geçerli bir tam sayı girin.\")"
      ],
      "metadata": {
        "colab": {
          "base_uri": "https://localhost:8080/"
        },
        "id": "9HRmioctKkXz",
        "outputId": "40f786c6-958c-4a12-a9e5-b1d1c3b4996a"
      },
      "execution_count": 18,
      "outputs": [
        {
          "output_type": "stream",
          "name": "stdout",
          "text": [
            "Bir sayı girin: 20\n",
            "2432902008176640000\n"
          ]
        }
      ]
    },
    {
      "cell_type": "code",
      "source": [
        "while True:\n",
        "  try:\n",
        "    sayi =int(input(\"Bir sayı girin:  \"))\n",
        "    if sayi <0:\n",
        "      print(\"Negatif sayıların faktoriyeli heaplanamaz\")\n",
        "    elif sayi == 0 or sayi == 1:\n",
        "      print (1)\n",
        "    else:\n",
        "      sonuc = 1\n",
        "      while sayi >1:\n",
        "        sonuc *= sayi\n",
        "        sayi -= 1\n",
        "      print(sonuc)\n",
        "    break\n",
        "  except ValueError:\n",
        "    print(\"Lütfen geçerli bir sayı girin\")"
      ],
      "metadata": {
        "colab": {
          "base_uri": "https://localhost:8080/"
        },
        "id": "t7YLkfaqN3bO",
        "outputId": "c16df4ea-8d39-4d52-b7d4-64066694f2ad"
      },
      "execution_count": 21,
      "outputs": [
        {
          "output_type": "stream",
          "name": "stdout",
          "text": [
            "Bir sayı girin:100\n",
            "93326215443944152681699238856266700490715968264381621468592963895217599993229915608941463976156518286253697920827223758251185210916864000000000000000000000000\n"
          ]
        }
      ]
    },
    {
      "cell_type": "code",
      "source": [
        "# Kullanıcıdan başlangıç değeri al\n",
        "while True:\n",
        "    try:\n",
        "        baslangic_degeri = int(input(\"Başlangıç değerini girin: \"))\n",
        "        if baslangic_degeri < 0:\n",
        "            baslangic_degeri = abs(baslangic_degeri)\n",
        "            print(f\"Negatif değer girdiniz, pozitif olarak alındı: {baslangic_degeri}\")\n",
        "        break\n",
        "    except ValueError:\n",
        "        print(\"Lütfen geçerli bir tam sayı girin.\")\n",
        "\n",
        "# Kullanıcıdan son değer al\n",
        "while True:\n",
        "    try:\n",
        "        bitis_degeri = int(input(\"Bitiş değerini girin: \"))\n",
        "        if bitis_degeri < 0:\n",
        "            bitis_degeri = abs(bitis_degeri)\n",
        "            print(f\"Negatif değer girdiniz, pozitif olarak alındı: {bitis_degeri}\")\n",
        "        break\n",
        "    except ValueError:\n",
        "        print(\"Lütfen geçerli bir tam sayı girin.\")\n",
        "\n",
        "# Başlangıç ve bitiş değerleri arasında çift sayıları bul ve topla\n",
        "cift_sayilar = []\n",
        "cift_sayilarin_toplami = 0\n",
        "sayi = baslangic_degeri\n",
        "\n",
        "while sayi <= bitis_degeri:\n",
        "    if sayi % 2 == 0:\n",
        "        cift_sayilar.append(sayi)\n",
        "        cift_sayilarin_toplami += sayi\n",
        "    sayi += 1\n",
        "\n",
        "# Elde edilen çift sayıları ve toplamlarını ekrana yazdır\n",
        "print(f\"{baslangic_degeri} ile {bitis_degeri} arasındaki çift sayılar:\")\n",
        "for num in cift_sayilar:\n",
        "    print(num, end=\" \")\n",
        "\n",
        "print(f\"\\nÇift sayıların toplamı: {cift_sayilarin_toplami}\")"
      ],
      "metadata": {
        "colab": {
          "base_uri": "https://localhost:8080/"
        },
        "id": "BSTEOxGBXJOE",
        "outputId": "6f7859f9-2bd7-4392-99f5-d2ab52898edd"
      },
      "execution_count": 22,
      "outputs": [
        {
          "output_type": "stream",
          "name": "stdout",
          "text": [
            "Başlangıç değerini girin: 20\n",
            "Bitiş değerini girin: 100\n",
            "20 ile 100 arasındaki çift sayılar:\n",
            "20 22 24 26 28 30 32 34 36 38 40 42 44 46 48 50 52 54 56 58 60 62 64 66 68 70 72 74 76 78 80 82 84 86 88 90 92 94 96 98 100 \n",
            "Çift sayıların toplamı: 2460\n"
          ]
        }
      ]
    },
    {
      "cell_type": "code",
      "source": [
        "# Önceden tanımlalan sesli harf listesinde girilen metnin karşılaştırılması yapılarak sesli ve sessiz harf kontrolünün yapımı\n",
        "sesli_harfler = 'aeıioöuüAEIİOÖUÜ'\n",
        "\n",
        "kelime = input(\"Bir kelime girin: \") # Kullanıcıdan bir kelime al\n",
        "\n",
        "# Sesli ve sessiz harf sayısını hesapla\n",
        "sesli_harf_sayisi = 0\n",
        "sessiz_harf_sayisi = 0\n",
        "\n",
        "'''\n",
        "isalpha() ile bir stringde yalnızca harf olup olmadığını kontrol etmek için kullanılır.\n",
        "\n",
        "Aşağıdaki kod blogunda geçen \"isalpha\" harf dışı bir karakter ile karşılaşınca \"false\" döndürmektedir.\n",
        "'''\n",
        "\n",
        "for harf in kelime:\n",
        "    if harf.isalpha():  # Sadece harfleri kontrol et\n",
        "        if harf in sesli_harfler:\n",
        "            sesli_harf_sayisi += 1\n",
        "        else:\n",
        "            sessiz_harf_sayisi += 1\n",
        "\n",
        "# Sonuçları ekrana yazdır\n",
        "print(kelime, \"kelimesinde\" , sesli_harf_sayisi , \"adet sesli harf ve\", sessiz_harf_sayisi, \"sessiz harf vardır.\")"
      ],
      "metadata": {
        "colab": {
          "base_uri": "https://localhost:8080/"
        },
        "id": "m91gxfXGXO5N",
        "outputId": "621a9a92-f982-4010-e823-523e520a02c9"
      },
      "execution_count": 23,
      "outputs": [
        {
          "output_type": "stream",
          "name": "stdout",
          "text": [
            "Bir kelime girin: ismail\n",
            "ismail kelimesinde 3 adet sesli harf ve 3 sessiz harf vardır.\n"
          ]
        }
      ]
    }
  ]
}