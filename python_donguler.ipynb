{
  "nbformat": 4,
  "nbformat_minor": 0,
  "metadata": {
    "colab": {
      "provenance": []
    },
    "kernelspec": {
      "name": "python3",
      "display_name": "Python 3"
    },
    "language_info": {
      "name": "python"
    }
  },
  "cells": [
    {
      "cell_type": "code",
      "execution_count": 2,
      "metadata": {
        "colab": {
          "base_uri": "https://localhost:8080/"
        },
        "id": "GE6RjsKt-n2B",
        "outputId": "8deef8d5-4afa-4acd-e93b-035151af2a9f"
      },
      "outputs": [
        {
          "output_type": "stream",
          "name": "stdout",
          "text": [
            "0\n",
            "1\n",
            "2\n",
            "3\n",
            "4\n"
          ]
        }
      ],
      "source": [
        "# for döngüsü örneği: 0'dan 4'e kadar olan sayıları yazdırılması işlemidir.\n",
        "for i in range(5):\n",
        "    print(i)\n",
        ""
      ]
    },
    {
      "cell_type": "code",
      "source": [
        "# for dönügüsü örneği: alışveriş listesi oluşturma\n",
        "liste = [\"elma\", \"ekmek\", \"süt\", \"peynir\"]\n",
        "\n",
        "for alinacaklar in liste:\n",
        "    print(alinacaklar)\n",
        ""
      ],
      "metadata": {
        "colab": {
          "base_uri": "https://localhost:8080/"
        },
        "id": "g87-4X1UBRFV",
        "outputId": "e06b96cb-97aa-4c8f-b2b4-fdd5f166b387"
      },
      "execution_count": 3,
      "outputs": [
        {
          "output_type": "stream",
          "name": "stdout",
          "text": [
            "elma\n",
            "ekmek\n",
            "süt\n",
            "peynir\n"
          ]
        }
      ]
    },
    {
      "cell_type": "code",
      "source": [
        " # for döngüsü örneği: bir sınıftaki öğrencilerin notlarının ortalamasını hesaplama\n",
        "notlar = [85, 92, 78, 90, 88]\n",
        "\n",
        "toplam = 0\n",
        "for sayi in notlar:\n",
        "    toplam += sayi     # toplam = toplam + sayi\n",
        "\n",
        "ortalama = toplam / len(notlar)\n",
        "\n",
        "print(\"Birinci Print -> Not Ortalaması: \", ortalama)\n",
        "\n",
        "print(f\"İkinci Print -> Not ortalaması : {ortalama}\")"
      ],
      "metadata": {
        "colab": {
          "base_uri": "https://localhost:8080/"
        },
        "id": "hAV5jmTuBgSP",
        "outputId": "1e1249c4-4145-4fee-8133-8776c7a17c0b"
      },
      "execution_count": 22,
      "outputs": [
        {
          "output_type": "stream",
          "name": "stdout",
          "text": [
            "Birinci Print -> Not Ortalaması:  86.6\n",
            "İkinci Print -> Not ortalaması : 86.6\n"
          ]
        }
      ]
    },
    {
      "cell_type": "code",
      "source": [
        "notlar  = [85,90,95,100,85,90]\n",
        "\n",
        "toplam = 0\n",
        "for sayi in notlar:\n",
        "    toplam += sayi\n",
        "\n",
        "ortalama = toplam / len(notlar)\n",
        "\n",
        "print(\"Birinci print -> Not Ortalaması:\",ortalama)\n",
        "\n",
        "print(f\"İkinci print -> Not ortalaması: {ortalama}\")"
      ],
      "metadata": {
        "colab": {
          "base_uri": "https://localhost:8080/"
        },
        "id": "VI4fbNI_Czmn",
        "outputId": "498cdd94-6634-4e49-95b2-a538722663b7"
      },
      "execution_count": 23,
      "outputs": [
        {
          "output_type": "stream",
          "name": "stdout",
          "text": [
            "Birinci print -> Not Ortalaması: 90.83333333333333\n",
            "İkinci print -> Not ortalaması: 90.83333333333333\n"
          ]
        }
      ]
    },
    {
      "cell_type": "code",
      "source": [
        "# while döngüsü örneği: 0'dan 4'e kadar olan sayıları yazdırılması işlemidir.\n",
        "i = 0\n",
        "while i < 7:\n",
        "    print(i)\n",
        "    i += 1"
      ],
      "metadata": {
        "colab": {
          "base_uri": "https://localhost:8080/"
        },
        "id": "Y8gmKMfTNl_6",
        "outputId": "92216a82-929d-442b-ca69-a155b5f6d643"
      },
      "execution_count": 36,
      "outputs": [
        {
          "output_type": "stream",
          "name": "stdout",
          "text": [
            "0\n",
            "1\n",
            "2\n",
            "3\n",
            "4\n",
            "5\n",
            "6\n"
          ]
        }
      ]
    },
    {
      "cell_type": "code",
      "source": [
        "# Kullanıcıdan bir sayı alınması\n",
        "kullanici_girdisi = int(input(\"Bir sayı girin: \"))\n",
        "\n",
        "# 0'dan kullanıcı tarafından girilen sayıya kadar sıralama yapma\n",
        "i = 0\n",
        "while i <= kullanici_girdisi:\n",
        "    print(i)\n",
        "    i += 1"
      ],
      "metadata": {
        "colab": {
          "base_uri": "https://localhost:8080/"
        },
        "id": "4YCaZo1QNn6g",
        "outputId": "65000615-ec0f-4f07-a795-9921fdd766c7"
      },
      "execution_count": 31,
      "outputs": [
        {
          "output_type": "stream",
          "name": "stdout",
          "text": [
            "Bir sayı girin: 6\n",
            "0\n",
            "1\n",
            "2\n",
            "3\n",
            "4\n",
            "5\n",
            "6\n"
          ]
        }
      ]
    },
    {
      "cell_type": "code",
      "source": [
        "# break örneği: 3'e ulaştığında döngü sonlandıran kod blogudur.\n",
        "for i in range(5):\n",
        "    if i == 3:\n",
        "        break\n",
        "    print(i)\n",
        ""
      ],
      "metadata": {
        "colab": {
          "base_uri": "https://localhost:8080/"
        },
        "id": "Gxgn3hzPOtD1",
        "outputId": "e20ebbfb-8b7a-4d28-fb21-6da6df71241b"
      },
      "execution_count": 40,
      "outputs": [
        {
          "output_type": "stream",
          "name": "stdout",
          "text": [
            "0\n",
            "1\n",
            "2\n"
          ]
        }
      ]
    },
    {
      "cell_type": "code",
      "source": [
        "# continue örneği: 3'e ulaştığında o tekrar işlemini es geçen kod blogudur.\n",
        "for i in range(5):\n",
        "    if i == 3:\n",
        "        continue\n",
        "    print(i)"
      ],
      "metadata": {
        "colab": {
          "base_uri": "https://localhost:8080/"
        },
        "id": "_YN7o9tjQpGj",
        "outputId": "3d4b8463-42f7-40c5-927e-2eb85697408c"
      },
      "execution_count": 44,
      "outputs": [
        {
          "output_type": "stream",
          "name": "stdout",
          "text": [
            "0\n",
            "1\n",
            "2\n",
            "4\n"
          ]
        }
      ]
    },
    {
      "cell_type": "code",
      "source": [
        "# iç içe for döngüsü örneği: 2 boyutlu bir matrisin elemanları üzerinde işlemler\n",
        "matris = [\n",
        "    [1, 2, 3],\n",
        "    [4, 5, 6],\n",
        "    [7, 8, 9]\n",
        "]\n",
        "\n",
        "for x in matris:\n",
        "    for y in x:\n",
        "        print(y)\n",
        ""
      ],
      "metadata": {
        "colab": {
          "base_uri": "https://localhost:8080/"
        },
        "id": "6FoWbB1QRtTv",
        "outputId": "2c45c55b-51da-4433-e1d2-e1817f685b9b"
      },
      "execution_count": 45,
      "outputs": [
        {
          "output_type": "stream",
          "name": "stdout",
          "text": [
            "1\n",
            "2\n",
            "3\n",
            "4\n",
            "5\n",
            "6\n",
            "7\n",
            "8\n",
            "9\n"
          ]
        }
      ]
    },
    {
      "cell_type": "code",
      "source": [
        "# kullanıcıdan bilgi alınması\n",
        "while True:\n",
        "    try:\n",
        "        gelen_bilgi = int(input(\"Bir sayı girin: \"))\n",
        "        break\n",
        "    except ValueError:\n",
        "        print(\"Lütfen geçerli bir sayı girin!\")\n",
        "\n",
        "# 0'dan kullanıcı tarafından girilen sayıya kadar sıralama yapma\n",
        "i = 0\n",
        "while i <= gelen_bilgi:\n",
        "    print(i)\n",
        "    i += 1\n",
        ""
      ],
      "metadata": {
        "colab": {
          "base_uri": "https://localhost:8080/"
        },
        "id": "ZedEH3peRwFA",
        "outputId": "e7134134-715a-4957-b60c-1e066d03edb3"
      },
      "execution_count": 60,
      "outputs": [
        {
          "output_type": "stream",
          "name": "stdout",
          "text": [
            "Bir sayı girin: 1\n",
            "0\n",
            "1\n"
          ]
        }
      ]
    },
    {
      "cell_type": "code",
      "source": [
        "# while döngüsü örneği: kullanıcı bakiye bilgisinin sorgulanması\n",
        "toplam_ucret = 1000\n",
        "while toplam_ucret > 0:\n",
        "    try:\n",
        "        celilen_tutar = int(input(\"Çekmek istediğiniz miktarı girin: \"))\n",
        "        if celilen_tutar > toplam_ucret:\n",
        "            print(\"Yetersiz bakiye!\")\n",
        "            bilgi = input(\"İşleme devam etmek istiyor musunuz? (e/h): \").lower()\n",
        "            if bilgi == \"h\":\n",
        "                print(\"İşlem sonlandırıldı.\")\n",
        "                break\n",
        "        else:\n",
        "            toplam_ucret -= celilen_tutar\n",
        "            print(f\"Kalan bakiye: {toplam_ucret}\")\n",
        "        if toplam_ucret == 0:\n",
        "            print(\"Bakiye tükendi.\")\n",
        "            break\n",
        "    except ValueError:\n",
        "        print(\"Lütfen geçerli bir sayı girin!\")"
      ],
      "metadata": {
        "colab": {
          "base_uri": "https://localhost:8080/"
        },
        "id": "MMdxEZz3UH48",
        "outputId": "03d274fd-0506-4ece-8867-3aa3c7b54297"
      },
      "execution_count": 64,
      "outputs": [
        {
          "output_type": "stream",
          "name": "stdout",
          "text": [
            "Çekmek istediğiniz miktarı girin: 100\n",
            "Kalan bakiye: 900\n",
            "Çekmek istediğiniz miktarı girin: 200\n",
            "Kalan bakiye: 700\n",
            "Çekmek istediğiniz miktarı girin: 700\n",
            "Kalan bakiye: 0\n",
            "Bakiye tükendi.\n"
          ]
        }
      ]
    },
    {
      "cell_type": "code",
      "source": [],
      "metadata": {
        "id": "18ZzgdNsVbc0"
      },
      "execution_count": 68,
      "outputs": []
    }
  ]
}